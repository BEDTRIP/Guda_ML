{
 "cells": [
  {
   "cell_type": "markdown",
   "id": "8122cb9e-4aab-44c4-9dbf-a01f5fc61aea",
   "metadata": {},
   "source": [
    "# Оптимизация потерь в задачах классификации"
   ]
  },
  {
   "cell_type": "markdown",
   "id": "75fc75db-de4a-4cbc-ab21-09a8ea95c48b",
   "metadata": {},
   "source": []
  },
  {
   "cell_type": "markdown",
   "id": "af3e9126-1410-48ac-a699-fc60965b4a2f",
   "metadata": {},
   "source": [
    "В столбцах prediction1,2,3 данных содержатся результаты предсказания соответствия классу 1 некоторых классификаторов (трех вариантов глубокой нейронной сети) для тестовой выборки. Столбец label содержит истинные классы объектов. \n",
    "\n",
    "## Задание 1\n",
    "  \n",
    "Постройте кривую ошибок для каждой нейросети. Чем они отличаются? Площадь под какой кривой больше? Трансформируйте предсказания нейросетей в вероятности класса 1 (далее будем обозначать их probabilities), предполагая, что тестовая выборка распределена точно так же, как и будут распределены объекты в будущем, к которым наш алгоритм планируется применять. Для этого можно действовать следующим образом. Для каждого значения, возвращаемого нейросетью, взять несколько похожих значений и вычислить среди них процент класса 1, т.е. по сути применить метод ближайших соседей к данным: x - предсказания нейросети, y - истинные классы. Постройте на одном графике зависимости вероятностей от величины предсказания для всех нейросетей."
   ]
  },
  {
   "cell_type": "code",
   "execution_count": 9,
   "id": "b6536e47-67d9-414e-a2fc-df52316f74ca",
   "metadata": {},
   "outputs": [
    {
     "name": "stdout",
     "output_type": "stream",
     "text": [
      "      prediction1  prediction2  prediction3  label\n",
      "0        1.000000     1.000000    -1.000000    1.0\n",
      "1       -0.019702     0.036304     0.180918    1.0\n",
      "2       -0.019502     0.036504     0.181318    1.0\n",
      "3       -0.019302     0.036704     0.181718    1.0\n",
      "4       -0.019102     0.036904    -0.778978    1.0\n",
      "...           ...          ...          ...    ...\n",
      "9995    -0.140714    -0.206121    -0.145715    0.0\n",
      "9996    -0.140314    -0.205521    -0.145315    0.0\n",
      "9997    -0.140114    -0.204720    -0.145115    0.0\n",
      "9998    -0.139714    -0.210921    -0.148115    0.0\n",
      "9999     0.000100    -1.000000     0.000100    0.0\n",
      "\n",
      "[10000 rows x 4 columns]\n"
     ]
    }
   ],
   "source": [
    "import pandas as pd\n",
    "\n",
    "file_path = 'data.csv'\n",
    "data = pd.read_csv(file_path)\n",
    "print(data)"
   ]
  },
  {
   "cell_type": "code",
   "execution_count": 11,
   "id": "045ba978-1c3f-4aec-9c0f-c73bd57d63f8",
   "metadata": {},
   "outputs": [
    {
     "ename": "NameError",
     "evalue": "name 'sklearn' is not defined",
     "output_type": "error",
     "traceback": [
      "\u001b[1;31m---------------------------------------------------------------------------\u001b[0m",
      "\u001b[1;31mNameError\u001b[0m                                 Traceback (most recent call last)",
      "Cell \u001b[1;32mIn[11], line 9\u001b[0m\n\u001b[0;32m      6\u001b[0m \u001b[38;5;28;01mfor\u001b[39;00m i \u001b[38;5;129;01min\u001b[39;00m \u001b[38;5;28mrange\u001b[39m(\u001b[38;5;241m1\u001b[39m, \u001b[38;5;241m4\u001b[39m):\n\u001b[0;32m      7\u001b[0m     prediction \u001b[38;5;241m=\u001b[39m data[\u001b[38;5;124mf\u001b[39m\u001b[38;5;124m'\u001b[39m\u001b[38;5;124mprediction\u001b[39m\u001b[38;5;132;01m{\u001b[39;00mi\u001b[38;5;132;01m}\u001b[39;00m\u001b[38;5;124m'\u001b[39m]\n\u001b[1;32m----> 9\u001b[0m     fpr, tpr, _ \u001b[38;5;241m=\u001b[39m sklearn\u001b[38;5;241m.\u001b[39mmetrics\u001b[38;5;241m.\u001b[39mroc_curve(true_class, prediction)\n\u001b[0;32m     10\u001b[0m     plt\u001b[38;5;241m.\u001b[39mfigure()\n\u001b[0;32m     11\u001b[0m     plt\u001b[38;5;241m.\u001b[39mplot(fpr, tpr, color\u001b[38;5;241m=\u001b[39m\u001b[38;5;124m'\u001b[39m\u001b[38;5;124mdarkorange\u001b[39m\u001b[38;5;124m'\u001b[39m, lw\u001b[38;5;241m=\u001b[39m\u001b[38;5;241m2\u001b[39m)\n",
      "\u001b[1;31mNameError\u001b[0m: name 'sklearn' is not defined"
     ]
    }
   ],
   "source": [
    "from sklearn.metrics import roc_curve, roc_auc_score\n",
    "import matplotlib.pyplot as plt\n",
    "\n",
    "true_class = data['label']\n",
    "\n",
    "for i in range(1, 4):\n",
    "    prediction = data[f'prediction{i}']\n",
    "\n",
    "    fpr, tpr, _ = sklearn.metrics.roc_curve(true_class, prediction)\n",
    "    plt.figure()\n",
    "    plt.plot(fpr, tpr, color='darkorange', lw=2)\n",
    "    plt.plot([0, 1], [0, 1], color='navy', lw=2, linestyle='--')\n",
    "    plt.show()\n",
    "    print('Площадь под кривой =', sklearn.metrics.roc_auc_score(true_class, prediction) )"
   ]
  },
  {
   "cell_type": "markdown",
   "id": "f2863cf1-169e-4139-b151-c80606eb534c",
   "metadata": {},
   "source": [
    "## Задание 2 \n",
    " \n",
    "  Для соответствующей вашему варианту нижеследующей задачи на листике составьте таблицу потерь/прибыли в результате ошибочных/правильных ответов алгоритма (первая строка таблицы - вероятности исходов, остальные - потери/прибыль от каждого действия алгоритма, одна строка - одно действие). \n",
    "  "
   ]
  },
  {
   "cell_type": "code",
   "execution_count": null,
   "id": "ab6cecb4-7bbc-4114-84f7-fb4608095024",
   "metadata": {},
   "outputs": [],
   "source": [
    "|                  | Сильное землетрясение              | Среднее землетрясение                    |\n",
    "| ---------------- | ---------------------------------- | ---------------------------------------- |\n",
    "| Prob.            | p                                  | 1-p                                      |\n",
    "| Полная эвакуация | 0 (затраты оправданы)              | -50 (перебдели, экономические издержки)  |\n",
    "| Остановка КИИ    | -1300 (недобдели, пострадали люди) | 0 (затраты оправданы)                    |"
   ]
  },
  {
   "cell_type": "code",
   "execution_count": 149,
   "id": "9f140c03-233e-4e0c-8853-94a562f58566",
   "metadata": {},
   "outputs": [],
   "source": [
    "A = [[0, -50],[-1300, 0]]"
   ]
  },
  {
   "cell_type": "markdown",
   "id": "fd340fae-44cb-4b15-bf90-0e9d1a388542",
   "metadata": {},
   "source": [
    "  Для этого придумайте/найдите в интернете разумные величины штрафов и напишите их словесное обоснование (т.е. восполните недостающие данные в постановке задачи). \n",
    "  "
   ]
  },
  {
   "cell_type": "markdown",
   "id": "8fd96eda-6c85-4c60-91e3-2ae25af8dba8",
   "metadata": {},
   "source": [
    "Стоимость эвакуации одного человека - от 20'000₽\n",
    "до 50'000₽, пусть будет 50'000₽, учитывая экономические издержки эвакуируемых\n",
    "Стоимость выплат компенсаций - зависит от масштабов разрушений и \"щедрости\" правительства, в Турции при последнем зелетрясении выплаты семье за погибшего составляли - 5'300$, в Тульской области в 2023 выплаты сосваляли 1'000'000₽, считаем с учетом инфляции на 2025г. ту же выплату за 1'300'000₽. Размеры возмещения имущества посчитать сложнее, чем за жизни людей, и они в любом случае будут потрачены вне зависимости от эвакуации, поэтому их можно в расчет не брать."
   ]
  },
  {
   "cell_type": "markdown",
   "id": "2e815938-e984-4347-b412-73efe5b63772",
   "metadata": {},
   "source": [
    "  Теортически (на листике) найдите зависимость оптимального порогового значения от вероятности для каждой из нейросетей (это называется decision function). "
   ]
  },
  {
   "cell_type": "code",
   "execution_count": 154,
   "id": "6781547e-f466-4553-9249-af8fe717a999",
   "metadata": {},
   "outputs": [],
   "source": [
    "def desicionEXT(Matr, p):\n",
    "    return p*Matr[0][0] + (1-p)*Matr[0][1]\n",
    "\n",
    "def desicionKII(Matr, p):\n",
    "    return p*Matr[1][0] + (1-p)*Matr[1][1]"
   ]
  },
  {
   "cell_type": "markdown",
   "id": "1d79c660-82d5-4eb7-b708-5ec2583e37c8",
   "metadata": {},
   "source": [
    "Запрограммируйте найденное пороговое значение и выясните, какие из нейросетей рентабельны и какая приносит наибольшую прибыль?"
   ]
  },
  {
   "cell_type": "code",
   "execution_count": 157,
   "id": "12d4f07f-dbd3-40d9-9932-153375e97fc6",
   "metadata": {},
   "outputs": [
    {
     "name": "stdout",
     "output_type": "stream",
     "text": [
      "     prob  skidka_cost  hui_cost  skidka_choosed  hui_choosed\n",
      "0    0.00         25.0     -25.0            50.0        -50.0\n",
      "1    0.01         26.5     -24.5            51.0        -51.0\n",
      "2    0.02         28.0     -24.0            52.0        -52.0\n",
      "3    0.03         29.5     -23.5            53.0        -53.0\n",
      "4    0.04         31.0     -23.0            54.0        -54.0\n",
      "..    ...          ...       ...             ...          ...\n",
      "96   0.96        169.0      23.0           146.0       -146.0\n",
      "97   0.97        170.5      23.5           147.0       -147.0\n",
      "98   0.98        172.0      24.0           148.0       -148.0\n",
      "99   0.99        173.5      24.5           149.0       -149.0\n",
      "100  1.00        175.0      25.0           150.0       -150.0\n",
      "\n",
      "[101 rows x 5 columns]\n"
     ]
    },
    {
     "data": {
      "image/png": "[encoded data removed]",
      "text/plain": [
       "<Figure size 1000x600 with 1 Axes>"
      ]
     },
     "metadata": {},
     "output_type": "display_data"
    }
   ],
   "source": [
    "prob_values = np.arange(0, 1.01, 0.01)\n",
    "db = pd.DataFrame({'prob': prob_values})\n",
    "\n",
    "for i, value in enumerate(db['prob']):\n",
    "    db.at[i, 'extraction_cost'] = desicionEXT(A, value)\n",
    "    db.at[i, 'kii_cost'] = desicionKII(A, value)\n",
    "    db.at[i, 'extraction_choosed'] = desicionEXT(A, value) - desicionKII(A, value)\n",
    "\n",
    "print(db)\n",
    "\n",
    "# Построение графика\n",
    "plt.figure(figsize=(10, 6))\n",
    "plt.plot(db['prob'], db['extraction_cost'], marker='o', linestyle='-', color='b')\n",
    "plt.plot(db['prob'], db['kii_cost'], marker='o', linestyle='-', color='r')\n",
    "plt.plot(db['prob'], db['extraction_choosed'], marker='o', linestyle='-', color='g')\n",
    "plt.xlabel('prob')\n",
    "plt.ylabel('true_class')\n",
    "plt.grid()\n",
    "plt.xticks(np.arange(0, 1.1, 0.1))\n",
    "plt.yticks([0, 1])\n",
    "plt.axhline(0.5, color='r', linestyle='--')  # Для визуализации порога\n",
    "plt.show()"
   ]
  },
  {
   "cell_type": "code",
   "execution_count": 159,
   "id": "50047154-b71d-4097-b3db-32df2790f59e",
   "metadata": {},
   "outputs": [
    {
     "name": "stdout",
     "output_type": "stream",
     "text": [
      "     prob  skidka_cost  hui_cost  skidka_choosed  hui_choosed true_row\n",
      "0    0.00         25.0     -25.0            50.0        -50.0     True\n",
      "1    0.01         26.5     -24.5            51.0        -51.0     True\n",
      "2    0.02         28.0     -24.0            52.0        -52.0     True\n",
      "3    0.03         29.5     -23.5            53.0        -53.0     True\n",
      "4    0.04         31.0     -23.0            54.0        -54.0     True\n",
      "..    ...          ...       ...             ...          ...      ...\n",
      "96   0.96        169.0      23.0           146.0       -146.0     True\n",
      "97   0.97        170.5      23.5           147.0       -147.0     True\n",
      "98   0.98        172.0      24.0           148.0       -148.0     True\n",
      "99   0.99        173.5      24.5           149.0       -149.0     True\n",
      "100  1.00        175.0      25.0           150.0       -150.0     True\n",
      "\n",
      "[101 rows x 6 columns]\n"
     ]
    },
    {
     "data": {
      "image/png": "[encoded data removed]",
      "text/plain": [
       "<Figure size 1000x600 with 1 Axes>"
      ]
     },
     "metadata": {},
     "output_type": "display_data"
    }
   ],
   "source": [
    "def desicion(Matr, p):\n",
    "    return p*Matr[0][0] + (1-p)*Matr[0][1] > p*Matr[1][0] + (1-p)*Matr[1][1]\n",
    "\n",
    "for i, value in enumerate(db['prob']):\n",
    "    db.at[i, 'true_row'] = desicion(A, value)\n",
    "\n",
    "print(db)\n",
    "\n",
    "# Построение графика\n",
    "plt.figure(figsize=(10, 6))\n",
    "plt.plot(db['prob'], db['true_row'], marker='o', linestyle='-', color='b')\n",
    "plt.title('График зависимости true_class от prob')\n",
    "plt.xlabel('prob')\n",
    "plt.ylabel('true_class')\n",
    "plt.grid()\n",
    "plt.xticks(np.arange(0, 1.1, 0.1))\n",
    "plt.yticks([0, 1])\n",
    "plt.axhline(0.5, color='r', linestyle='--')  # Для визуализации порога\n",
    "plt.show()"
   ]
  },
  {
   "cell_type": "markdown",
   "id": "d1a92d97-42ed-4714-bb0a-de3517be46f7",
   "metadata": {},
   "source": [
    "9. Задача предсказания землетрясения в населенном пункте. В случае большой вероятности власти обязаны эвакуировать население и остановить функционирование критических промышленных объектов (например, атомной электростанции), что повлечет за собой приличные расходы. В случае средней вероятности землетрясения останавливают только функционирование критических промышленных объектов. Нужно минимизировать затраты муниципалитета."
   ]
  },
  {
   "cell_type": "markdown",
   "id": "73fddfad-c924-4902-bb98-c039eb93e180",
   "metadata": {},
   "source": [
    "## Полезные кусочки кода\n",
    "\n",
    "### Построение кривой ошибок расчет площади под ней:\n",
    "\n",
    "```\n",
    "fpr, tpr, _ = sklearn.metrics.roc_curve(true_class, prediction)\n",
    "plt.figure()\n",
    "plt.plot(fpr, tpr, color='darkorange', lw=2)\n",
    "plt.plot([0, 1], [0, 1], color='navy', lw=2, linestyle='--')\n",
    "plt.show()\n",
    "print('Площадь под кривой =', sklearn.metrics.roc_auc_score(true_class, prediction) )\n",
    "```\n",
    "\n",
    "### Продвинутый алгоритм вычисления вероятностей - метод парзеновского окна:\n",
    "\n",
    "```\n",
    "from statsmodels.nonparametric.kernel_regression import KernelReg\n",
    "kr = KernelReg(endog=y, exog=x, var_type='c', bw=[0.2])\n",
    "prob, _ = kr.fit(x)\n",
    "```"
   ]
  },
  {
   "cell_type": "code",
   "execution_count": null,
   "id": "990c322d-a23e-4bdb-9ba5-4904a6d4ec22",
   "metadata": {},
   "outputs": [],
   "source": []
  }
 ],
 "metadata": {
  "kernelspec": {
   "display_name": "Python [conda env:base] *",
   "language": "python",
   "name": "conda-base-py"
  },
  "language_info": {
   "codemirror_mode": {
    "name": "ipython",
    "version": 3
   },
   "file_extension": ".py",
   "mimetype": "text/x-python",
   "name": "python",
   "nbconvert_exporter": "python",
   "pygments_lexer": "ipython3",
   "version": "3.12.7"
  }
 },
 "nbformat": 4,
 "nbformat_minor": 5
}
